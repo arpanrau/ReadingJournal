{
 "cells": [
  {
   "cell_type": "markdown",
   "metadata": {},
   "source": [
    "# Day 1 Reading Journal\n",
    "\n",
    "Hi everyone.  These are the exercises for the first set of readings from ThinkPython.  While this journal consists of several required exercises, it is meant to encourage active reading more generally.  You should use this journal to take detailed notes, catalog questions, and explore the content from ThinkPython deeply.\n",
    "\n",
    "For more information on using the Jupyter notebook, check out the documentation [here](http://nbviewer.jupyter.org/github/jupyter/notebook/blob/master/docs/source/examples/Notebook/Examples%20and%20Tutorials%20Index.ipynb).  Additionally, in order to write text in this document, you will be making use of markdown cells. A handy cheatsheet for markdown is available [here](https://github.com/adam-p/markdown-here/wiki/Markdown-Cheatsheet)."
   ]
  },
  {
   "cell_type": "markdown",
   "metadata": {},
   "source": [
    "## A. The Case for Interdisciplinary Computer Science (pdf, pptx)"
   ]
  },
  {
   "cell_type": "markdown",
   "metadata": {},
   "source": [
    "Read \"The Case for Interdisciplinary Computer Science\" ([pdf](https://drive.google.com/file/d/0B0UHkPLHsgyoeWFQRkViT0tvREE/view?usp=sharing), [pptx](https://drive.google.com/file/d/0B0UHkPLHsgyodHlnLV9uVjkyUEk/view?usp=sharing)). Answer these questions:"
   ]
  },
  {
   "cell_type": "markdown",
   "metadata": {
    "question": "CICC.a"
   },
   "source": [
    "a. What are some benefits of learning computing?\n",
    "\n",
    "Write your answer in the cell below."
   ]
  },
  {
   "cell_type": "markdown",
   "metadata": {},
   "source": [
    "Computers are powerful tools that are used in every field, and the ability to write software allows one to combine, modify, and build software to solve problems. In addition, thinking computationally allows one to develop solutions to hard problems. One can maximize the impact of code one writes and work more effectively with the sometimes-mystical 'software people'."
   ]
  },
  {
   "cell_type": "markdown",
   "metadata": {
    "question": "CICC.b"
   },
   "source": [
    "b. Should everyone(or, every *engineer*) learn to program? Why or why not? What is *your* opinon? [This is not a quesiton with a right and wrong answer.]"
   ]
  },
  {
   "cell_type": "markdown",
   "metadata": {},
   "source": [
    "In my opinion, yes. As a mechanical structures engineer- about as far from software as someone can get- I've suffered a lot in the past for not being able to understand the difficulties of what the avionics people do, and used simple python and matlab scripts to automate large amounts of cumbersome data analysis. "
   ]
  },
  {
   "cell_type": "markdown",
   "metadata": {
    "question": "CICC.c"
   },
   "source": [
    "c. Pick one of the examples from the slide deck. What did you like about it? What didn't you like? What would you add or change?"
   ]
  },
  {
   "cell_type": "markdown",
   "metadata": {},
   "source": [
    "*I'm not honestly sure what this question means, but I'm just going to roll with it.*\n",
    "I loved the idea of detecting cell mitosis with software, because it seems like a simple way of automating out a difficult and complex problem. I do think there's a lot that computer scientists have to bring to a lot of other fields - for example, using computers to better diagonse diseases based on symptoms.\n"
   ]
  },
  {
   "cell_type": "markdown",
   "metadata": {},
   "source": [
    "## B. Think Python"
   ]
  },
  {
   "cell_type": "markdown",
   "metadata": {},
   "source": [
    "## Chapter 1\n",
    "\n",
    "Note: the exercise numbers below match up with the reading for ease of cross referencing."
   ]
  },
  {
   "cell_type": "markdown",
   "metadata": {
    "question": "1.3"
   },
   "source": [
    "### Exercise 3\n",
    "\n",
    "Type `help()` to start the online help utility. Or you can type `help('print')` to get information about the `print` statement.  You should type `q` and then hit `enter` in the text box to exit the help utility. \n",
    "\n",
    "Note: this exercise is pretty simple (and there's not much to put in the box)!  We just want to make sure that you have tried out this super-handy feature of Python!"
   ]
  },
  {
   "cell_type": "code",
   "execution_count": 1,
   "metadata": {
    "collapsed": false
   },
   "outputs": [
    {
     "name": "stdout",
     "output_type": "stream",
     "text": [
      "\n",
      "Welcome to Python 2.7!  This is the online help utility.\n",
      "\n",
      "If this is your first time using Python, you should definitely check out\n",
      "the tutorial on the Internet at http://docs.python.org/2.7/tutorial/.\n",
      "\n",
      "Enter the name of any module, keyword, or topic to get help on writing\n",
      "Python programs and using Python modules.  To quit this help utility and\n",
      "return to the interpreter, just type \"quit\".\n",
      "\n",
      "To get a list of available modules, keywords, or topics, type \"modules\",\n",
      "\"keywords\", or \"topics\".  Each module also comes with a one-line summary\n",
      "of what it does; to list the modules whose summaries contain a given word\n",
      "such as \"spam\", type \"modules spam\".\n",
      "\n",
      "help> q\n",
      "\n",
      "You are now leaving help and returning to the Python interpreter.\n",
      "If you want to ask for help on a particular object directly from the\n",
      "interpreter, you can type \"help(object)\".  Executing \"help('string')\"\n",
      "has the same effect as typing a particular string at the help> prompt.\n"
     ]
    }
   ],
   "source": [
    "help()\n"
   ]
  },
  {
   "cell_type": "markdown",
   "metadata": {
    "question": "1.4"
   },
   "source": [
    "### Exercise 4\n",
    "\n",
    "Start the Python interpreter and use it as a calculator. Python’s syntax for math operations is almost the same as standard mathematical notation. For example, the symbols +, - and / denote addition, subtraction and division, as you would expect. The symbol for multiplication is *.\n",
    "\n",
    "If you run a 10 kilometer race in 43 minutes 30 seconds, what is your average time per mile? What is your average speed in miles per hour? (Hint: there are 1.61 kilometers in a mile). \n",
    "\n",
    "6.96 minutes/mile\n",
    "\n",
    "8.62 miles/hour"
   ]
  },
  {
   "cell_type": "code",
   "execution_count": 1,
   "metadata": {
    "collapsed": false
   },
   "outputs": [
    {
     "data": {
      "text/plain": [
       "8.620689655172413"
      ]
     },
     "execution_count": 1,
     "metadata": {},
     "output_type": "execute_result"
    }
   ],
   "source": [
    "1/6.96*60"
   ]
  },
  {
   "cell_type": "markdown",
   "metadata": {},
   "source": [
    "## Chapter 2"
   ]
  },
  {
   "cell_type": "markdown",
   "metadata": {
    "question": "2.2"
   },
   "source": [
    "### Exercise 2\n",
    "\n",
    "Assume that we execute the following assignment statements:\n",
    "\n",
    "```\n",
    "width = 17\n",
    "height = 12.0\n",
    "delimiter = '.'\n",
    "```\n",
    "\n",
    "For each of the following expressions, write the value of the expression and the type (of the value of the expression).\n",
    "\n",
    "1. `width/2`\n",
    "2. `width/2.0`\n",
    "3. `height/3`\n",
    "4. `1 + 2 * 5`\n",
    "5. `delimiter * 5`\n",
    "\n",
    "Please use the following markdown cell to provide your answer."
   ]
  },
  {
   "cell_type": "markdown",
   "metadata": {},
   "source": [
    "1. 8 - integer\n",
    "2. 8.5 - float\n",
    "3. 4.0 - float\n",
    "4. 11 - integer\n",
    "5. '.....' - string\n"
   ]
  },
  {
   "cell_type": "markdown",
   "metadata": {},
   "source": [
    "### Exercise 3\n",
    "\n",
    "Practice using the Python interpreter as a calculator.  For each of these provide Python code that computes each answer.\n",
    "\n",
    "    \n"
   ]
  },
  {
   "cell_type": "markdown",
   "metadata": {
    "question": "2.3a"
   },
   "source": [
    "The volume of a sphere with radius r is 4/3 $\\pi r^3$. What is the volume of a sphere with radius 5? Hint: 392.7 is wrong!"
   ]
  },
  {
   "cell_type": "code",
   "execution_count": 8,
   "metadata": {
    "collapsed": false
   },
   "outputs": [
    {
     "name": "stdout",
     "output_type": "stream",
     "text": [
      "523.598775583\n"
     ]
    }
   ],
   "source": [
    "sphere_volume = (4)*3.1415926535*(5**3)/3\n",
    "print sphere_volume"
   ]
  },
  {
   "cell_type": "markdown",
   "metadata": {
    "question": "2.3b"
   },
   "source": [
    "Suppose the cover price of a book is \\$24.95, but bookstores get a 40% discount. Shipping costs \\$3 for the first copy and 75 cents for each additional copy. What is the total wholesale cost for 60 copies?"
   ]
  },
  {
   "cell_type": "code",
   "execution_count": 12,
   "metadata": {
    "collapsed": false
   },
   "outputs": [
    {
     "name": "stdout",
     "output_type": "stream",
     "text": [
      "945.45\n"
     ]
    }
   ],
   "source": [
    "wholesale_cost = (.6*24.95)*60 + 3 + (.75*59)\n",
    "print wholesale_cost"
   ]
  },
  {
   "cell_type": "markdown",
   "metadata": {
    "question": "2.3c"
   },
   "source": [
    "If I leave my house at 6:52 am and run 1 mile at an easy pace (8:15 per mile), then 3 miles at tempo (7:12 per mile) and 1 mile at easy pace again, what time do I get home for breakfast? "
   ]
  },
  {
   "cell_type": "code",
   "execution_count": 17,
   "metadata": {
    "collapsed": false
   },
   "outputs": [
    {
     "name": "stdout",
     "output_type": "stream",
     "text": [
      "7:30\n"
     ]
    }
   ],
   "source": [
    "import math\n",
    "return_time = 6.0+(52.0/60.0) + 2.0 * 8.0/60.0 + 2.0 * 15.0/3600.0 + 3.0*(7.0/60.0) + 3.0* 12.0/3600.0\n",
    "print str(int(math.floor(return_time))) + ':' + str(int((return_time-math.floor(return_time))*60))"
   ]
  },
  {
   "cell_type": "markdown",
   "metadata": {},
   "source": [
    "## Chapter 3"
   ]
  },
  {
   "cell_type": "markdown",
   "metadata": {
    "question": "3.3"
   },
   "source": [
    "### Exercise 3\n",
    "\n",
    "Python provides a built-in function called `len` that returns the length of a string, so the value of `len('allen')` is 5.\n",
    "\n",
    "Write a function named `right_justify` that takes a string named `s` as a parameter and prints the string with enough leading spaces so that the last letter of the string is in column 70 of the display.\n",
    "\n",
    "```\n",
    ">>> right_justify('allen')\n",
    "                                                                 allen```"
   ]
  },
  {
   "cell_type": "code",
   "execution_count": 21,
   "metadata": {
    "collapsed": false
   },
   "outputs": [
    {
     "name": "stdout",
     "output_type": "stream",
     "text": [
      "                                                                  whee\n"
     ]
    }
   ],
   "source": [
    "def right_justify(s):\n",
    "    \"right justifies text to line 70\"\n",
    "    justifier_length = 70-len(s)\n",
    "    justifier = ' '*justifier_length\n",
    "    print justifier+s\n",
    "right_justify('whee')    "
   ]
  },
  {
   "cell_type": "markdown",
   "metadata": {
    "question": "3.5a"
   },
   "source": [
    "### Exercise 5\n",
    "\n",
    "This exercise can be done using only the statements and other features we have learned so far.\n",
    "\n",
    "(a) Write a function that draws a grid like the following:\n",
    "```\n",
    "+ - - - - + - - - - +\n",
    "|         |         |\n",
    "|         |         |\n",
    "|         |         |\n",
    "|         |         |\n",
    "+ - - - - + - - - - +\n",
    "|         |         |\n",
    "|         |         |\n",
    "|         |         |\n",
    "|         |         |\n",
    "+ - - - - + - - - - +\n",
    "```\n",
    "**Hint:** to print more than one value on a line, you can print a comma-separated sequence:\n",
    "```\n",
    "print '+', '-'\n",
    "```\n",
    "\n",
    "If the sequence ends with a comma, Python leaves the line unfinished, so the value printed next appears on the same line:\n",
    "```\n",
    "print '+', \n",
    "print '-'\n",
    "```\n",
    "\n",
    "The output of these statements is '+ -'.\n",
    "\n",
    "A print statement all by itself ends the current line and goes to the next line."
   ]
  },
  {
   "cell_type": "code",
   "execution_count": 24,
   "metadata": {
    "collapsed": false
   },
   "outputs": [
    {
     "name": "stdout",
     "output_type": "stream",
     "text": [
      "+ ---- + ---- +\n",
      "|      |      |\n",
      "|      |      |\n",
      "|      |      |\n",
      "|      |      |\n",
      "+ ---- + ---- +\n",
      "|      |      |\n",
      "|      |      |\n",
      "|      |      |\n",
      "|      |      |\n",
      "+ ---- + ---- +\n"
     ]
    }
   ],
   "source": [
    "def gridprinter():    \n",
    "    def row1block():\n",
    "        print '+',\n",
    "        print 4*'-',\n",
    "    def row2block():\n",
    "        print '|',\n",
    "        print 4*' ',\n",
    "    def twice(funct):\n",
    "        funct()\n",
    "        funct()\n",
    "    def four(funct):\n",
    "        funct()\n",
    "        funct()\n",
    "        funct()\n",
    "        funct()\n",
    "    def row1():\n",
    "        twice(row1block)\n",
    "        print'+'\n",
    "    def row2():\n",
    "        twice(row2block)\n",
    "        print '|'\n",
    "    row1()\n",
    "    four(row2)\n",
    "    row1()\n",
    "    four(row2)\n",
    "    row1()\n",
    "gridprinter()    \n",
    "        \n",
    "        \n",
    "    "
   ]
  },
  {
   "cell_type": "markdown",
   "metadata": {
    "question": "3.5b"
   },
   "source": [
    "(b) Write a function that draws a similar grid with *four* rows and *four* columns."
   ]
  },
  {
   "cell_type": "code",
   "execution_count": 27,
   "metadata": {
    "collapsed": false
   },
   "outputs": [
    {
     "name": "stdout",
     "output_type": "stream",
     "text": [
      "+ ---- + ---- + ---- + ---- +\n",
      "|      |      |      |      |\n",
      "|      |      |      |      |\n",
      "|      |      |      |      |\n",
      "|      |      |      |      |\n",
      "+ ---- + ---- + ---- + ---- +\n",
      "|      |      |      |      |\n",
      "|      |      |      |      |\n",
      "|      |      |      |      |\n",
      "|      |      |      |      |\n",
      "+ ---- + ---- + ---- + ---- +\n",
      "|      |      |      |      |\n",
      "|      |      |      |      |\n",
      "|      |      |      |      |\n",
      "|      |      |      |      |\n",
      "+ ---- + ---- + ---- + ---- +\n",
      "|      |      |      |      |\n",
      "|      |      |      |      |\n",
      "|      |      |      |      |\n",
      "|      |      |      |      |\n",
      "+ ---- + ---- + ---- + ---- +\n"
     ]
    }
   ],
   "source": [
    "def gridprinterlarge():    \n",
    "    def row1block():\n",
    "        print '+',\n",
    "        print 4*'-',\n",
    "    def row2block():\n",
    "        print '|',\n",
    "        print 4*' ',\n",
    "    def twice(funct):\n",
    "        funct()\n",
    "        funct()\n",
    "    def four(funct):\n",
    "        funct()\n",
    "        funct()\n",
    "        funct()\n",
    "        funct()\n",
    "    def row1():\n",
    "        four(row1block)\n",
    "        print'+'\n",
    "    def row2():\n",
    "        four(row2block)\n",
    "        print '|'\n",
    "    def smallblock():   \n",
    "        row1()\n",
    "        four(row2)\n",
    "        row1()\n",
    "        four(row2)\n",
    "        \n",
    "    twice(smallblock)  \n",
    "    row1()\n",
    "gridprinterlarge()    "
   ]
  },
  {
   "cell_type": "markdown",
   "metadata": {},
   "source": [
    "## Chapter 5.1 - 5.7"
   ]
  },
  {
   "cell_type": "markdown",
   "metadata": {
    "question": "5.3a"
   },
   "source": [
    "### Exercise 3\n",
    "\n",
    "Fermat’s Last Theorem says that there are no positive integers $a$, $b$, and $c$ such that $a^n + b^n = c^n$ for any values of $n$ greater than 2.\n",
    "\n",
    "(a) Write a function named `check_fermat` that takes four parameters—$a$, $b$, $c$ and $n$—and that checks to see if Fermat’s theorem holds. If $n$ is greater than 2 and it turns out to be true that\n",
    "$a^n + b^n = c^n$ the program should print, \"Holy smokes, Fermat was wrong!\" Otherwise the program should print, \"No, that doesn’t work.\""
   ]
  },
  {
   "cell_type": "code",
   "execution_count": 29,
   "metadata": {
    "collapsed": false
   },
   "outputs": [
    {
     "name": "stdout",
     "output_type": "stream",
     "text": [
      "No, that does not work\n"
     ]
    }
   ],
   "source": [
    "def check_fermat(a,b,c,n):\n",
    "    if a**n + b**n == c**n:\n",
    "        print 'Holy Smokes, Fermat was wrong!'\n",
    "    else:\n",
    "        print 'No, that does not work'\n",
    "check_fermat(1,2,3,4)        \n",
    "        "
   ]
  },
  {
   "cell_type": "markdown",
   "metadata": {
    "question": "5.3b"
   },
   "source": [
    "(b) Write a function that prompts the user to input values for $a$, $b$, $c$ and $n$, converts them to integers, and uses `check_fermat` to check whether they violate Fermat’s theorem."
   ]
  },
  {
   "cell_type": "code",
   "execution_count": 31,
   "metadata": {
    "collapsed": false
   },
   "outputs": [
    {
     "name": "stdout",
     "output_type": "stream",
     "text": [
      "input a:1\n",
      "input b:2\n",
      "input c:3\n",
      "input n:5\n",
      "No, that does not work\n"
     ]
    }
   ],
   "source": [
    "def check_fermat_user_input():\n",
    "    a = int(raw_input('input a:'))\n",
    "    b = int(raw_input('input b:'))\n",
    "    c = int(raw_input('input c:'))\n",
    "    n = int(raw_input('input n:'))\n",
    "    if a**n + b**n == c**n:\n",
    "        print 'Holy Smokes, Fermat was wrong!'\n",
    "    else:\n",
    "        print 'No, that does not work'\n",
    "check_fermat_user_input()      "
   ]
  },
  {
   "cell_type": "markdown",
   "metadata": {
    "question": "5.4a"
   },
   "source": [
    "### Exercise 4\n",
    "\n",
    "If you are given three sticks, you may or may not be able to arrange them in a triangle. For example, if one of the sticks is 12 inches long and the other two are one inch long, it is clear that you will not be able to get the short sticks to meet in the middle. For any three lengths, there is a simple test to see if it is possible to form a triangle:\n",
    "> If any of the three lengths is greater than the sum of the other two, then you cannot form a triangle. Otherwise, you can. (If the sum of two lengths equals the third, they form what is called a “degenerate” triangle.)\n",
    "\n",
    "(a) Write a function named `is_triangle` that takes three integers as arguments, and that prints either \"Yes\" or \"No,\" depending on whether you can or cannot form a triangle from sticks with the given lengths."
   ]
  },
  {
   "cell_type": "code",
   "execution_count": 2,
   "metadata": {
    "collapsed": false
   },
   "outputs": [
    {
     "name": "stdout",
     "output_type": "stream",
     "text": [
      "Yes\n"
     ]
    }
   ],
   "source": [
    "def is_triangle(a,b,c):\n",
    "    if a+b>=c and a+c>=b and c+b>=a:\n",
    "        print 'Yes'\n",
    "    else:\n",
    "        print 'No'\n",
    "is_triangle(1,1,1)        "
   ]
  },
  {
   "cell_type": "markdown",
   "metadata": {
    "question": "5.4b"
   },
   "source": [
    "(b) Write a function that prompts the user to input three stick lengths, converts them to integers, and uses is_triangle to check whether sticks with the given lengths can form a triangle."
   ]
  },
  {
   "cell_type": "code",
   "execution_count": 41,
   "metadata": {
    "collapsed": false
   },
   "outputs": [
    {
     "name": "stdout",
     "output_type": "stream",
     "text": [
      "Stick Length 1:1\n",
      "Stick Length 2:1\n",
      "Stick Length 3:1\n",
      "Yes\n"
     ]
    }
   ],
   "source": [
    "def is_triangle():\n",
    "    a = int(raw_input('Stick Length 1:'))\n",
    "    b = int(raw_input('Stick Length 2:'))\n",
    "    c = int(raw_input('Stick Length 3:'))\n",
    "    if a+b>=c and a+c>=b and c+b>=a:\n",
    "        print 'Yes'\n",
    "    else:\n",
    "        print 'No'\n",
    "is_triangle()        "
   ]
  },
  {
   "cell_type": "markdown",
   "metadata": {
    "is_poll": true,
    "question": "Time spent"
   },
   "source": [
    "## Quick poll\n",
    "\n",
    "About how long did you spend working on this Reading Journal?"
   ]
  },
  {
   "cell_type": "markdown",
   "metadata": {},
   "source": [
    "About an hour and halfish."
   ]
  },
  {
   "cell_type": "markdown",
   "metadata": {
    "question": "Feedback"
   },
   "source": [
    "## Reading Journal Feedback\n",
    "\n",
    "Have any comments on this Reading Journal? Feel free to leave them below and we'll read them when you submit your journal entry. This could include suggestions to improve the exercises, topics you'd like to see covered in class next time, or other feedback.\n",
    "\n",
    "If you have Python questions or run into problems while completing the reading, you should post them to Slack instead so you can get a quick response before your journal is submitted."
   ]
  },
  {
   "cell_type": "markdown",
   "metadata": {},
   "source": [
    "I'm confused by what to actually answer with for the math excercises in chapter 2."
   ]
  }
 ],
 "metadata": {
  "kernelspec": {
   "display_name": "Python 2",
   "language": "python",
   "name": "python2"
  },
  "language_info": {
   "codemirror_mode": {
    "name": "ipython",
    "version": 2
   },
   "file_extension": ".py",
   "mimetype": "text/x-python",
   "name": "python",
   "nbconvert_exporter": "python",
   "pygments_lexer": "ipython2",
   "version": "2.7.12"
  }
 },
 "nbformat": 4,
 "nbformat_minor": 0
}
