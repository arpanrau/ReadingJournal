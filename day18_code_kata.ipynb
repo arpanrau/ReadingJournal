{
 "cells": [
  {
   "cell_type": "markdown",
   "metadata": {},
   "source": [
    "# Day 18 Kata: Data Munging\n",
    "\n",
    "A [code katas](http://codekata.com) is a short exercise for practicing particular Python skills.\n",
    "\n",
    "This exercise is adapted from [Kata04](http://codekata.com/kata/kata04-data-munging/), by Dave Thomas.\n",
    "\n",
    "**Due: Monday, November 7 at 12 noon**"
   ]
  },
  {
   "cell_type": "markdown",
   "metadata": {},
   "source": [
    "### Part One: Weather Data\n",
    "\n",
    "In `./data/weather.dat` you’ll find daily weather data for Morristown, NJ for June 2002.\n",
    "Write a function that outputs the day number (column one) with the smallest temperature spread (the maximum temperature is the second column, the minimum the third column)."
   ]
  },
  {
   "cell_type": "code",
   "execution_count": 54,
   "metadata": {
    "collapsed": false
   },
   "outputs": [
    {
     "name": "stdout",
     "output_type": "stream",
     "text": [
      "14\n"
     ]
    }
   ],
   "source": [
    "def find_day_with_smallest_spread():\n",
    "    \"\"\"Given a database of daily weather for morristown, NJ, outputs day number with smallest temperature spread\"\"\"\n",
    "    f = open('./data/weather.dat')\n",
    "    lines = f.readlines()\n",
    "    smallestspread = 100 #defaults to arbitrary high number\n",
    "    smallestline = 1\n",
    "    lines.remove(lines[0])\n",
    "    #loop thru lines of data, looking for \n",
    "    for i in range(1,len(lines)-1):\n",
    "        #strip line and split into numbers\n",
    "        lines[i] = lines[i].strip()\n",
    "        lines[i] = lines[i].split()\n",
    "        #sanitize *s from data\n",
    "        lines[i][1] = lines[i][1].replace('*','')\n",
    "        lines[i][2] = lines[i][2].replace('*','')\n",
    "        #find spread\n",
    "        spread = float(lines[i][1])-float(lines[i][2])\n",
    "        #rewrite smallestspread and smallest line if smallest spread\n",
    "        if spread <= smallestspread:\n",
    "            smallestspread = spread\n",
    "            smallestline = i\n",
    "\n",
    "            \n",
    "    #return the day that corresponds to the smalles t line\n",
    "    return lines[smallestline][0]\n",
    "   \n",
    "              \n",
    "\n",
    "print find_day_with_smallest_spread()"
   ]
  },
  {
   "cell_type": "markdown",
   "metadata": {},
   "source": [
    "### Part Two: Soccer League Table\n",
    "The file `./data/football.dat` contains the results from the English Premier League for 2001/2.\n",
    "The columns labeled ‘F’ and ‘A’ contain the total number of goals scored for and against each team in that season (so Arsenal scored 79 goals against opponents, and had 36 goals scored against them).\n",
    "Write a function to print the name of the team with the smallest difference in ‘for’ and ‘against’ goals."
   ]
  },
  {
   "cell_type": "code",
   "execution_count": 55,
   "metadata": {
    "collapsed": false
   },
   "outputs": [
    {
     "name": "stdout",
     "output_type": "stream",
     "text": [
      "Arsenal\n"
     ]
    }
   ],
   "source": [
    "def find_team_with_smallest_difference():\n",
    "    #not sure if smallest as in most negative or smallest as in abs value\n",
    "    #assuming most negative, so smallest [for-against]\n",
    "    \"\"\"Given a database of English premier results,\n",
    "    finds team with smallest for and against goals\"\"\"\n",
    "    f = open('./data/football.dat')\n",
    "    lines = f.readlines()\n",
    "    smallestspread = 100 #defaults to arbitrary high number\n",
    "    smallestline = 1\n",
    "    lines.remove(lines[0])\n",
    "    #loop thru lines of data, looking for \n",
    "    for i in range(len(lines)):\n",
    "        #strip line and split into numbers\n",
    "        lines[i] = lines[i].strip()\n",
    "        lines[i] = lines[i].split()\n",
    "         #try to read line, if bad line do nothing\n",
    "        try:\n",
    "            #find spread\n",
    "            spread = float(lines[i][8])-float(lines[i][6])\n",
    "            #rewrite smallestspread and smallest line if smallest spread\n",
    "            if spread <= smallestspread:\n",
    "                smallestspread = spread\n",
    "                smallestline = i\n",
    "        except:\n",
    "            pass\n",
    "            \n",
    "    #return the day that corresponds to the smalles t line\n",
    "    return lines[smallestline][1]\n",
    "   \n",
    "              \n",
    "\n",
    "print find_team_with_smallest_difference()"
   ]
  },
  {
   "cell_type": "markdown",
   "metadata": {},
   "source": [
    "### Part Three: DRY Fusion\n",
    "“In software engineering, **d**on't **r**epeat **y**ourself (DRY) is a principle of software development, aimed at reducing repetition of information of all kinds” – [Wikipedia](https://en.wikipedia.org/wiki/Don%27t_repeat_yourself).\n",
    "\n",
    "(Compare this to [copy and paste programming](https://en.wikipedia.org/wiki/Copy_and_paste_programming).)\n",
    "\n",
    "Take the two functions written previously and [factor out](https://en.wikipedia.org/wiki/Code_refactoring) as much common code as possible, leaving you with two smaller functions that each call a third function."
   ]
  },
  {
   "cell_type": "code",
   "execution_count": 57,
   "metadata": {
    "collapsed": false
   },
   "outputs": [
    {
     "name": "stdout",
     "output_type": "stream",
     "text": [
      "14\n",
      "Arsenal\n"
     ]
    }
   ],
   "source": [
    "def find_smallest_difference(filepath,comparison1,comparison2,returnindex):\n",
    "    \"\"\"Given a .dat file path with lists of columns,comparison1, comparison 2, and return index,\n",
    "    returns the specified column that has the smallest comparison1-comparison2\"\"\"\n",
    "    f = open(filepath)\n",
    "    lines = f.readlines()\n",
    "    smallestspread = 100 #defaults to arbitrary high number\n",
    "    smallestline = 1\n",
    "    lines.remove(lines[0])\n",
    "    #loop thru lines of data, looking for \n",
    "    for i in range(len(lines)):\n",
    "        #strip line and split into numbers\n",
    "        lines[i] = lines[i].strip()\n",
    "        lines[i] = lines[i].split()\n",
    "        #try to read line, if bad line do nothing\n",
    "        try:\n",
    "            #sanitize *s from data\n",
    "            lines[i][comparison1] = lines[i][comparison1].replace('*','')\n",
    "            lines[i][2] = lines[comparison2][comparison2].replace('*','')\n",
    "            #find spread\n",
    "            spread = float(lines[i][comparison1])-float(lines[i][comparison2])\n",
    "            #rewrite smallestspread and smallest line if smallest spread\n",
    "            if spread <= smallestspread:\n",
    "                smallestspread = spread\n",
    "                smallestline = i\n",
    "        except:\n",
    "            pass\n",
    "        \n",
    "    #return the return index that corresponds to the smalles t line\n",
    "    return lines[smallestline][returnindex]\n",
    "            \n",
    "\n",
    "print find_smallest_difference('./data/weather.dat',1,2,0)\n",
    "\n",
    "print find_smallest_difference('./data/football.dat',8,6,1)"
   ]
  },
  {
   "cell_type": "markdown",
   "metadata": {},
   "source": [
    "## Quick poll\n",
    "\n",
    "About how long did you spend working on this Reading Journal?"
   ]
  },
  {
   "cell_type": "markdown",
   "metadata": {},
   "source": [
    "About an hour"
   ]
  },
  {
   "cell_type": "markdown",
   "metadata": {},
   "source": [
    "## Reading Journal feedback\n",
    "\n",
    "Have any comments on this Reading Journal? Feel free to leave them below and we'll read them when you submit your journal entry. This could include suggestions to improve the exercises, topics you'd like to see covered in class next time, or other feedback.\n",
    "If you have Python questions or run into problems while completing the reading, you should post them to Piazza instead so you can get a quick response before your journal is submitted."
   ]
  },
  {
   "cell_type": "markdown",
   "metadata": {},
   "source": [
    "The second prompt was unclear to me - am I looking for the smallest difference as in the smallest absolute value, or the actual most negative difference?"
   ]
  }
 ],
 "metadata": {
  "anaconda-cloud": {},
  "kernelspec": {
   "display_name": "Python 2",
   "language": "python",
   "name": "python2"
  },
  "language_info": {
   "codemirror_mode": {
    "name": "ipython",
    "version": 2
   },
   "file_extension": ".py",
   "mimetype": "text/x-python",
   "name": "python",
   "nbconvert_exporter": "python",
   "pygments_lexer": "ipython2",
   "version": "2.7.12"
  }
 },
 "nbformat": 4,
 "nbformat_minor": 0
}
