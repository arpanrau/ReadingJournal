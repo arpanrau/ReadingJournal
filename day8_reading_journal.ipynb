{
 "cells": [
  {
   "cell_type": "markdown",
   "metadata": {},
   "source": [
    "# Day 8 Reading Journal\n",
    "\n",
    "This journal includes several required exercises, but it is meant to encourage active reading more generally.  You should use the journal to take detailed notes, catalog questions, and explore the content from Think Python deeply.\n",
    "\n",
    "Reading: Think Python Chapter 12\n",
    "\n",
    "**Due: Thursday, September 29 at 12 noon**\n"
   ]
  },
  {
   "cell_type": "markdown",
   "metadata": {},
   "source": [
    "## [Chapter 12](http://www.greenteapress.com/thinkpython/html/thinkpython013.html)"
   ]
  },
  {
   "cell_type": "markdown",
   "metadata": {},
   "source": [
    "### Exercise 2 \n",
    "Exercise 12.2. In this example, ties are broken by comparing words, so words with the same length appear in reverse alphabetical order. For other applications you might want to break ties at ran- dom. Modify this example so that words with the same length appear in random order. Hint: see the random function in the random module."
   ]
  },
  {
   "cell_type": "code",
   "execution_count": 16,
   "metadata": {
    "collapsed": false
   },
   "outputs": [
    {
     "data": {
      "text/plain": [
       "['wonderful', 'tiggers', 'thing', 'about', 'The']"
      ]
     },
     "execution_count": 16,
     "metadata": {},
     "output_type": "execute_result"
    }
   ],
   "source": [
    "import random\n",
    "\n",
    "    \n",
    "def sort_by_length(words):\n",
    "\n",
    "    random.shuffle(words)\n",
    "    words.sort(reverse = True, key = lambda word: len(word))   \n",
    "                \n",
    "    return words\n",
    "\n",
    "sort_by_length([\"The\", \"wonderful\", \"thing\", \"about\", \"tiggers\"])"
   ]
  },
  {
   "cell_type": "markdown",
   "metadata": {},
   "source": [
    "### Exercise 4\n",
    "\n",
    "1. Write a program that reads a word list from a file (see Section 9.1) and prints all the sets of\n",
    "words that are anagrams.\n",
    "Here is an example of what the output might look like:\n",
    "\n",
    "     ['deltas', 'desalt', 'lasted', 'salted', 'slated', 'staled']\n",
    "     ['retainers', 'ternaries']\n",
    "     ['generating', 'greatening']\n",
    "     ['resmelts', 'smelters', 'termless']\n",
    "\n",
    "Hint: you might want to build a dictionary that maps from a set of letters to a list of words that can be spelled with those letters. The question is, how can you represent the set of letters in a way that can be used as a key?"
   ]
  },
  {
   "cell_type": "code",
   "execution_count": 28,
   "metadata": {
    "collapsed": false
   },
   "outputs": [
    {
     "name": "stdout",
     "output_type": "stream",
     "text": [
      "['generating', 'greatening']\n",
      "['potato']\n",
      "['scream']\n",
      "['resmelts', 'smelters', 'termless']\n",
      "['retainers', 'ternaries']\n",
      "['slated', 'staled', 'lasted', 'desalt', 'deltas', 'salted']\n",
      "['tomato']\n"
     ]
    }
   ],
   "source": [
    "def anagram_finder(textfile):\n",
    "    #takes a string name of a text file with space-seperated words\n",
    "    #returns anagrams in file\n",
    "    open_file = open(textfile, 'r')\n",
    "    words_list =[]\n",
    "    contents = open_file.read()\n",
    "    words_list.extend(contents.split())\n",
    "    master_dict = {}\n",
    "    for word in words_list:\n",
    "        letters = \"\"\n",
    "        for i in word:\n",
    "            letters += i\n",
    "        letters = ''.join(sorted(letters))\n",
    "        if letters in master_dict:\n",
    "            master_dict[letters].append(word)\n",
    "        else:\n",
    "            master_dict[letters] = [word]\n",
    "    for i in master_dict:\n",
    "        print master_dict[i]\n",
    "    open_file.close()  \n",
    "\n",
    "anagram_finder('randomwordlist.txt')"
   ]
  },
  {
   "cell_type": "markdown",
   "metadata": {},
   "source": [
    "2\\. Modify the previous program so that it prints the largest set of anagrams first, followed by the second largest set, and so on."
   ]
  },
  {
   "cell_type": "code",
   "execution_count": 34,
   "metadata": {
    "collapsed": false
   },
   "outputs": [
    {
     "name": "stdout",
     "output_type": "stream",
     "text": [
      "['slated', 'staled', 'lasted', 'desalt', 'deltas', 'salted']\n",
      "['resmelts', 'smelters', 'termless']\n",
      "['generating', 'greatening']\n",
      "['retainers', 'ternaries']\n",
      "['potato']\n",
      "['scream']\n",
      "['tomato']\n"
     ]
    }
   ],
   "source": [
    "def anagram_finder(textfile):\n",
    "    #takes a string name of a text file with space-seperated words\n",
    "    #returns anagrams in file\n",
    "    open_file = open(textfile, 'r')\n",
    "    words_list =[]\n",
    "    contents = open_file.read()\n",
    "    words_list.extend(contents.split())\n",
    "    master_dict = {}\n",
    "    for word in words_list:\n",
    "        letters = \"\"\n",
    "        for i in word:\n",
    "            letters += i\n",
    "        letters = ''.join(sorted(letters))\n",
    "        if letters in master_dict:\n",
    "            master_dict[letters].append(word)\n",
    "        else:\n",
    "            master_dict[letters] = [word]\n",
    "    janklist = []\n",
    "    for i in master_dict:\n",
    "        janklist.append(master_dict[i])\n",
    "    janklist.sort(reverse = True, key = lambda word: len(word))\n",
    "    for i in janklist:\n",
    "        print  i\n",
    "                \n",
    "    open_file.close()  \n",
    "\n",
    "anagram_finder('randomwordlist.txt')"
   ]
  },
  {
   "cell_type": "markdown",
   "metadata": {},
   "source": [
    "3\\. In Scrabble a “bingo” is when you play all seven tiles in your rack, along with a letter on the board, to form an eight-letter word. What set of 8 letters forms the most possible bingos? Hint: there are seven."
   ]
  },
  {
   "cell_type": "code",
   "execution_count": 36,
   "metadata": {
    "collapsed": false
   },
   "outputs": [
    {
     "name": "stdout",
     "output_type": "stream",
     "text": [
      "['ANGRIEST', 'ANGSTIER', 'ASTRINGE', 'GANISTER', 'GANTRIES', 'GRANITES', 'INGRATES', 'RANGIEST', 'REASTING', 'STEARING', 'TASERING']\n"
     ]
    }
   ],
   "source": [
    "def anagram_finder(textfile):\n",
    "    #takes a string name of a text file with space-seperated words\n",
    "    #returns anagrams in file\n",
    "    open_file = open(textfile, 'r')\n",
    "    words_list =[]\n",
    "    contents = open_file.read()\n",
    "    words_list.extend(contents.split())\n",
    "    master_dict = {}\n",
    "    for word in words_list:\n",
    "        letters = \"\"\n",
    "        for i in word:\n",
    "            letters += i\n",
    "        letters = ''.join(sorted(letters))\n",
    "        if letters in master_dict:\n",
    "            master_dict[letters].append(word)\n",
    "        else:\n",
    "            master_dict[letters] = [word]\n",
    "    janklist = []\n",
    "    for i in master_dict:\n",
    "        janklist.append(master_dict[i])\n",
    "    janklist.sort(reverse = True, key = lambda word: len(word))\n",
    "    print janklist[0]\n",
    "                \n",
    "    open_file.close()  \n",
    "\n",
    "anagram_finder('8letterwords.txt')\n",
    "\n",
    "#I reject your claim that there are seven. These eight letters form 11.\n",
    "\n"
   ]
  },
  {
   "cell_type": "markdown",
   "metadata": {},
   "source": [
    "# Quick poll\n",
    "About how long did you spend working on this Reading Journal?"
   ]
  },
  {
   "cell_type": "code",
   "execution_count": null,
   "metadata": {
    "collapsed": true
   },
   "outputs": [],
   "source": [
    "#About an hour and a half"
   ]
  },
  {
   "cell_type": "markdown",
   "metadata": {},
   "source": [
    " "
   ]
  }
 ],
 "metadata": {
  "anaconda-cloud": {},
  "kernelspec": {
   "display_name": "Python 2",
   "language": "python",
   "name": "python2"
  },
  "language_info": {
   "codemirror_mode": {
    "name": "ipython",
    "version": 2
   },
   "file_extension": ".py",
   "mimetype": "text/x-python",
   "name": "python",
   "nbconvert_exporter": "python",
   "pygments_lexer": "ipython2",
   "version": "2.7.12"
  }
 },
 "nbformat": 4,
 "nbformat_minor": 0
}
